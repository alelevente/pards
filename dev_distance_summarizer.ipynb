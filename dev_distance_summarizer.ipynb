{
 "cells": [
  {
   "cell_type": "markdown",
   "metadata": {},
   "source": [
    "# **Development of the distance summarizer**"
   ]
  },
  {
   "cell_type": "code",
   "execution_count": 12,
   "metadata": {},
   "outputs": [],
   "source": [
    "import pandas as pd\n",
    "import json"
   ]
  },
  {
   "cell_type": "code",
   "execution_count": 21,
   "metadata": {},
   "outputs": [],
   "source": [
    "distance_data = pd.read_json(\"src/distances.json\", orient=\"index\")"
   ]
  },
  {
   "cell_type": "code",
   "execution_count": 23,
   "metadata": {},
   "outputs": [],
   "source": [
    "with open(\"src/distances.json\") as file:\n",
    "    dist_dict = json.load(file)"
   ]
  },
  {
   "cell_type": "code",
   "execution_count": null,
   "metadata": {},
   "outputs": [],
   "source": [
    "[\"uniform\", \"minprob\", \"last1\", \"last2\", \"last3\", \"mix\"]"
   ]
  },
  {
   "cell_type": "code",
   "execution_count": 33,
   "metadata": {},
   "outputs": [],
   "source": [
    "distance_data = pd.json_normalize(dist_dict, max_level=1)#\"times\", [\"uniform\", \"minprob\", \"last1\", \"last2\", \"last3\", \"mix\"])"
   ]
  },
  {
   "cell_type": "code",
   "execution_count": 34,
   "metadata": {},
   "outputs": [
    {
     "data": {
      "text/html": [
       "<div>\n",
       "<style scoped>\n",
       "    .dataframe tbody tr th:only-of-type {\n",
       "        vertical-align: middle;\n",
       "    }\n",
       "\n",
       "    .dataframe tbody tr th {\n",
       "        vertical-align: top;\n",
       "    }\n",
       "\n",
       "    .dataframe thead th {\n",
       "        text-align: right;\n",
       "    }\n",
       "</style>\n",
       "<table border=\"1\" class=\"dataframe\">\n",
       "  <thead>\n",
       "    <tr style=\"text-align: right;\">\n",
       "      <th></th>\n",
       "      <th>4.0.times</th>\n",
       "      <th>4.0.uniform</th>\n",
       "      <th>4.0.minprob</th>\n",
       "      <th>4.0.last1</th>\n",
       "      <th>4.0.last2</th>\n",
       "      <th>4.0.last3</th>\n",
       "      <th>4.0.mix</th>\n",
       "      <th>13.0.times</th>\n",
       "      <th>13.0.uniform</th>\n",
       "      <th>13.0.minprob</th>\n",
       "      <th>...</th>\n",
       "      <th>3995.0.last2</th>\n",
       "      <th>3995.0.last3</th>\n",
       "      <th>3995.0.mix</th>\n",
       "      <th>3972.0.times</th>\n",
       "      <th>3972.0.uniform</th>\n",
       "      <th>3972.0.minprob</th>\n",
       "      <th>3972.0.last1</th>\n",
       "      <th>3972.0.last2</th>\n",
       "      <th>3972.0.last3</th>\n",
       "      <th>3972.0.mix</th>\n",
       "    </tr>\n",
       "  </thead>\n",
       "  <tbody>\n",
       "    <tr>\n",
       "      <th>0</th>\n",
       "      <td>[3, 10, 10]</td>\n",
       "      <td>[[4, 1, 3, 5, 0, 5, 5, 4, 4, 4], [8, 9, 7, 6, ...</td>\n",
       "      <td>[[4, 1, 3, 5, 0, 5, 5, 4, 4, 4], [4, 1, 3, 5, ...</td>\n",
       "      <td>[[4, 1, 3, 5, 0, 5, 5, 4, 4, 4], [10, 9, 11, 1...</td>\n",
       "      <td>[[4, 1, 3, 5, 0, 5, 5, 4, 4, 4], [9, 7, 8, 10,...</td>\n",
       "      <td>[[4, 1, 3, 5, 0, 5, 5, 4, 4, 4], [3, 2, 7, 1, ...</td>\n",
       "      <td>[[4, 1, 3, 5, 0, 5, 5, 4, 4, 4], [7, 8, 9, 8, ...</td>\n",
       "      <td>[3, 7, 7, 10, 10, 11, 11, 12, 12]</td>\n",
       "      <td>[[7, 4, 5, 5, 8, 4, 6, 6, 3, 8], [6, 7, 8, 3, ...</td>\n",
       "      <td>[[4, 5, 6, 8, 6, 7, 9, 5, 5, 7], [9, 8, 10, 9,...</td>\n",
       "      <td>...</td>\n",
       "      <td>[[7, 6, 5, 8, 4, 4, 3, 5, 5, 3], [6, 5, 4, 7, ...</td>\n",
       "      <td>[[8, 7, 6, 9, 5, 4, 5, 6, 9, 4], [7, 6, 5, 8, ...</td>\n",
       "      <td>[[11, 10, 12, 9, 8, 9, 10, 10, 7, 9], [10, 9, ...</td>\n",
       "      <td>[1001, 1001, 1002, 1003, 1003, 1005, 1006, 100...</td>\n",
       "      <td>[[7, 6, 8, 7, 7, 8, 5, 6, 9, 4], [6, 5, 7, 6, ...</td>\n",
       "      <td>[[9, 10, 8, 11, 9, 10, 12, 10, 7, 11], [9, 10,...</td>\n",
       "      <td>[[4, 3, 5, 6, 6, 7, 6, 5, 6, 5], [4, 3, 5, 6, ...</td>\n",
       "      <td>[[7, 6, 8, 7, 7, 8, 5, 6, 9, 4], [7, 6, 8, 7, ...</td>\n",
       "      <td>[[7, 6, 8, 7, 8, 5, 9, 7, 8, 9], [7, 6, 8, 7, ...</td>\n",
       "      <td>[[7, 6, 8, 7, 8, 5, 9, 7, 8, 9], [4, 3, 5, 6, ...</td>\n",
       "    </tr>\n",
       "  </tbody>\n",
       "</table>\n",
       "<p>1 rows × 27629 columns</p>\n",
       "</div>"
      ],
      "text/plain": [
       "     4.0.times                                        4.0.uniform  \\\n",
       "0  [3, 10, 10]  [[4, 1, 3, 5, 0, 5, 5, 4, 4, 4], [8, 9, 7, 6, ...   \n",
       "\n",
       "                                         4.0.minprob  \\\n",
       "0  [[4, 1, 3, 5, 0, 5, 5, 4, 4, 4], [4, 1, 3, 5, ...   \n",
       "\n",
       "                                           4.0.last1  \\\n",
       "0  [[4, 1, 3, 5, 0, 5, 5, 4, 4, 4], [10, 9, 11, 1...   \n",
       "\n",
       "                                           4.0.last2  \\\n",
       "0  [[4, 1, 3, 5, 0, 5, 5, 4, 4, 4], [9, 7, 8, 10,...   \n",
       "\n",
       "                                           4.0.last3  \\\n",
       "0  [[4, 1, 3, 5, 0, 5, 5, 4, 4, 4], [3, 2, 7, 1, ...   \n",
       "\n",
       "                                             4.0.mix  \\\n",
       "0  [[4, 1, 3, 5, 0, 5, 5, 4, 4, 4], [7, 8, 9, 8, ...   \n",
       "\n",
       "                          13.0.times  \\\n",
       "0  [3, 7, 7, 10, 10, 11, 11, 12, 12]   \n",
       "\n",
       "                                        13.0.uniform  \\\n",
       "0  [[7, 4, 5, 5, 8, 4, 6, 6, 3, 8], [6, 7, 8, 3, ...   \n",
       "\n",
       "                                        13.0.minprob  ...  \\\n",
       "0  [[4, 5, 6, 8, 6, 7, 9, 5, 5, 7], [9, 8, 10, 9,...  ...   \n",
       "\n",
       "                                        3995.0.last2  \\\n",
       "0  [[7, 6, 5, 8, 4, 4, 3, 5, 5, 3], [6, 5, 4, 7, ...   \n",
       "\n",
       "                                        3995.0.last3  \\\n",
       "0  [[8, 7, 6, 9, 5, 4, 5, 6, 9, 4], [7, 6, 5, 8, ...   \n",
       "\n",
       "                                          3995.0.mix  \\\n",
       "0  [[11, 10, 12, 9, 8, 9, 10, 10, 7, 9], [10, 9, ...   \n",
       "\n",
       "                                        3972.0.times  \\\n",
       "0  [1001, 1001, 1002, 1003, 1003, 1005, 1006, 100...   \n",
       "\n",
       "                                      3972.0.uniform  \\\n",
       "0  [[7, 6, 8, 7, 7, 8, 5, 6, 9, 4], [6, 5, 7, 6, ...   \n",
       "\n",
       "                                      3972.0.minprob  \\\n",
       "0  [[9, 10, 8, 11, 9, 10, 12, 10, 7, 11], [9, 10,...   \n",
       "\n",
       "                                        3972.0.last1  \\\n",
       "0  [[4, 3, 5, 6, 6, 7, 6, 5, 6, 5], [4, 3, 5, 6, ...   \n",
       "\n",
       "                                        3972.0.last2  \\\n",
       "0  [[7, 6, 8, 7, 7, 8, 5, 6, 9, 4], [7, 6, 8, 7, ...   \n",
       "\n",
       "                                        3972.0.last3  \\\n",
       "0  [[7, 6, 8, 7, 8, 5, 9, 7, 8, 9], [7, 6, 8, 7, ...   \n",
       "\n",
       "                                          3972.0.mix  \n",
       "0  [[7, 6, 8, 7, 8, 5, 9, 7, 8, 9], [4, 3, 5, 6, ...  \n",
       "\n",
       "[1 rows x 27629 columns]"
      ]
     },
     "execution_count": 34,
     "metadata": {},
     "output_type": "execute_result"
    }
   ],
   "source": [
    "distance_data.head(5)"
   ]
  }
 ],
 "metadata": {
  "interpreter": {
   "hash": "d7fbf97a8ff67c78ba0287647caccf805e77bf2adc5d4a3914b18f9baf79a91e"
  },
  "kernelspec": {
   "display_name": "Python 3.7.3 64-bit ('base': conda)",
   "language": "python",
   "name": "python3"
  },
  "language_info": {
   "codemirror_mode": {
    "name": "ipython",
    "version": 3
   },
   "file_extension": ".py",
   "mimetype": "text/x-python",
   "name": "python",
   "nbconvert_exporter": "python",
   "pygments_lexer": "ipython3",
   "version": "3.7.3"
  },
  "orig_nbformat": 4
 },
 "nbformat": 4,
 "nbformat_minor": 2
}
