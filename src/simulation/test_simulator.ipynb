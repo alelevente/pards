{
 "cells": [
  {
   "cell_type": "markdown",
   "id": "c1ed18e8-d241-4c83-8351-17057b567e11",
   "metadata": {},
   "source": [
    "# **Testing the Simulator**"
   ]
  },
  {
   "cell_type": "code",
   "execution_count": 1,
   "id": "cea6f844-66db-4d51-94c8-eb2b496479ba",
   "metadata": {},
   "outputs": [],
   "source": [
    "import numpy as np\n",
    "import sys\n",
    "\n",
    "sys.path.append(\"../tools\")\n",
    "import mc"
   ]
  },
  {
   "cell_type": "code",
   "execution_count": 2,
   "id": "dfd6b847-1e4b-4699-a0db-ab5f010a763d",
   "metadata": {},
   "outputs": [],
   "source": [
    "import mc_sampler"
   ]
  },
  {
   "cell_type": "code",
   "execution_count": 3,
   "id": "1e021bbc-391c-4167-ac92-7e4a5503fe78",
   "metadata": {},
   "outputs": [],
   "source": [
    "P = np.array([[0, 0.75, 0.25],\n",
    "              [0.5, 0, 0.5],\n",
    "              [0.75, 0.25, 0]])"
   ]
  },
  {
   "cell_type": "markdown",
   "id": "7832ba1d-2a03-419d-af3e-c49adf663c5a",
   "metadata": {},
   "source": [
    "## **Testing the sampler**"
   ]
  },
  {
   "cell_type": "code",
   "execution_count": 7,
   "id": "5de52dd4-f444-4f88-bcc6-68c99699c935",
   "metadata": {},
   "outputs": [
    {
     "name": "stdout",
     "output_type": "stream",
     "text": [
      "0.00, 0.75, 0.25\n"
     ]
    }
   ],
   "source": [
    "#Test case 1:\n",
    "#1 state, initial state is 0\n",
    "#carrying out multiple samplings, that must represent [0, 0.75, 0.25] vector\n",
    "\n",
    "results = [0, 0, 0]\n",
    "state = [0]\n",
    "N_SAMPLES = 10000\n",
    "for i in range(N_SAMPLES):\n",
    "    result = mc_sampler.sample_chain(P, state)[0]\n",
    "    results[result] = results[result]+1\n",
    "    \n",
    "print(\"{:.2f}, {:.2f}, {:.2f}\".format(results[0]/N_SAMPLES, results[1]/N_SAMPLES, results[2]/N_SAMPLES))"
   ]
  },
  {
   "cell_type": "code",
   "execution_count": 8,
   "id": "77b4b858-58b2-4bc8-9fe0-97f7adb6b4bd",
   "metadata": {},
   "outputs": [
    {
     "name": "stdout",
     "output_type": "stream",
     "text": [
      "0.00, 0.76, 0.24\n",
      "0.50, 0.00, 0.50\n"
     ]
    }
   ],
   "source": [
    "#Test case 2:\n",
    "#2 states, initial state is 0, 1\n",
    "#carrying out multiple samplings, that must represent [0, 0.75, 0.25], [0.5, 0, 0.5] vectors\n",
    "\n",
    "results = [[0, 0, 0], [0, 0, 0]]\n",
    "state = [0, 1]\n",
    "N_SAMPLES = 10000\n",
    "for i in range(N_SAMPLES):\n",
    "    result = mc_sampler.sample_chain(P, state)\n",
    "    for r in range(2):\n",
    "        results[r][result[r]] = results[r][result[r]]+1\n",
    "    \n",
    "print(\"{:.2f}, {:.2f}, {:.2f}\".format(results[0][0]/N_SAMPLES, results[0][1]/N_SAMPLES, results[0][2]/N_SAMPLES))\n",
    "print(\"{:.2f}, {:.2f}, {:.2f}\".format(results[1][0]/N_SAMPLES, results[1][1]/N_SAMPLES, results[1][2]/N_SAMPLES))"
   ]
  },
  {
   "cell_type": "code",
   "execution_count": 7,
   "id": "1dbab6da-1428-4176-81b6-4b944b7472b0",
   "metadata": {},
   "outputs": [
    {
     "name": "stdout",
     "output_type": "stream",
     "text": [
      "expected\t\t [0.37837838 0.35135135 0.27027027]\n",
      "test result\t\t0.38, 0.35, 0.27\n"
     ]
    }
   ],
   "source": [
    "#Test case 3\n",
    "#Long run test\n",
    "#starting from the initial state, making huge amount of steps\n",
    "#resulting vector shall represent the stationary distribution\n",
    "\n",
    "π = mc.calculate_stationary_distribution(P)\n",
    "\n",
    "results = [0, 0, 0]\n",
    "state = [0]\n",
    "N_SAMPLES = int(1e6)\n",
    "for i in range(N_SAMPLES):\n",
    "    result = mc_sampler.sample_chain(P, state)[0]\n",
    "    state = [result]\n",
    "    results[result] = results[result]+1\n",
    "    \n",
    "print(\"expected\\t\\t\", π)\n",
    "print(\"test result\\t\\t{:.2f}, {:.2f}, {:.2f}\".format(results[0]/N_SAMPLES, results[1]/N_SAMPLES, results[2]/N_SAMPLES))"
   ]
  }
 ],
 "metadata": {
  "kernelspec": {
   "display_name": "Python 3 (ipykernel)",
   "language": "python",
   "name": "python3"
  },
  "language_info": {
   "codemirror_mode": {
    "name": "ipython",
    "version": 3
   },
   "file_extension": ".py",
   "mimetype": "text/x-python",
   "name": "python",
   "nbconvert_exporter": "python",
   "pygments_lexer": "ipython3",
   "version": "3.7.3"
  }
 },
 "nbformat": 4,
 "nbformat_minor": 5
}
