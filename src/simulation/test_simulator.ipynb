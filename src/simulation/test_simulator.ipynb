{
 "cells": [
  {
   "cell_type": "markdown",
   "id": "c1ed18e8-d241-4c83-8351-17057b567e11",
   "metadata": {},
   "source": [
    "# **Testing the Simulator**"
   ]
  },
  {
   "cell_type": "code",
   "execution_count": 1,
   "id": "cea6f844-66db-4d51-94c8-eb2b496479ba",
   "metadata": {},
   "outputs": [
    {
     "data": {
      "text/plain": [
       "<module 'tools.utils' from '../tools/utils.py'>"
      ]
     },
     "execution_count": 1,
     "metadata": {},
     "output_type": "execute_result"
    }
   ],
   "source": [
    "import numpy as np\n",
    "import sys\n",
    "from importlib import reload\n",
    "\n",
    "sys.path.append(\"..\")\n",
    "import tools.mc as mc\n",
    "import tools.utils as utils\n",
    "reload(mc)\n",
    "reload(utils)"
   ]
  },
  {
   "cell_type": "code",
   "execution_count": 2,
   "id": "dfd6b847-1e4b-4699-a0db-ab5f010a763d",
   "metadata": {},
   "outputs": [
    {
     "data": {
      "text/plain": [
       "<module 'simulator' from '/home/levente/Egyetem/PhD/kutatas/pards/src/simulation/simulator.py'>"
      ]
     },
     "execution_count": 2,
     "metadata": {},
     "output_type": "execute_result"
    }
   ],
   "source": [
    "import simulator\n",
    "reload(simulator)"
   ]
  },
  {
   "cell_type": "code",
   "execution_count": 10,
   "id": "1e021bbc-391c-4167-ac92-7e4a5503fe78",
   "metadata": {},
   "outputs": [],
   "source": [
    "P = np.array([[0, 0.75, 0.25],\n",
    "              [0.5, 0, 0.5],\n",
    "              [0.75, 0.25, 0]])"
   ]
  },
  {
   "cell_type": "markdown",
   "id": "7832ba1d-2a03-419d-af3e-c49adf663c5a",
   "metadata": {},
   "source": [
    "## **Testing the sampler**"
   ]
  },
  {
   "cell_type": "code",
   "execution_count": 7,
   "id": "5de52dd4-f444-4f88-bcc6-68c99699c935",
   "metadata": {},
   "outputs": [
    {
     "name": "stdout",
     "output_type": "stream",
     "text": [
      "0.00, 0.75, 0.25\n"
     ]
    }
   ],
   "source": [
    "#Test case 1:\n",
    "#1 state, initial state is 0\n",
    "#carrying out multiple samplings, that must represent [0, 0.75, 0.25] vector\n",
    "\n",
    "results = [0, 0, 0]\n",
    "state = [0]\n",
    "N_SAMPLES = 10000\n",
    "for i in range(N_SAMPLES):\n",
    "    result = mc_sampler.sample_chain(P, state)[0]\n",
    "    results[result] = results[result]+1\n",
    "    \n",
    "print(\"{:.2f}, {:.2f}, {:.2f}\".format(results[0]/N_SAMPLES, results[1]/N_SAMPLES, results[2]/N_SAMPLES))"
   ]
  },
  {
   "cell_type": "code",
   "execution_count": 8,
   "id": "77b4b858-58b2-4bc8-9fe0-97f7adb6b4bd",
   "metadata": {},
   "outputs": [
    {
     "name": "stdout",
     "output_type": "stream",
     "text": [
      "0.00, 0.76, 0.24\n",
      "0.50, 0.00, 0.50\n"
     ]
    }
   ],
   "source": [
    "#Test case 2:\n",
    "#2 states, initial state is 0, 1\n",
    "#carrying out multiple samplings, that must represent [0, 0.75, 0.25], [0.5, 0, 0.5] vectors\n",
    "\n",
    "results = [[0, 0, 0], [0, 0, 0]]\n",
    "state = [0, 1]\n",
    "N_SAMPLES = 10000\n",
    "for i in range(N_SAMPLES):\n",
    "    result = mc_sampler.sample_chain(P, state)\n",
    "    for r in range(2):\n",
    "        results[r][result[r]] = results[r][result[r]]+1\n",
    "    \n",
    "print(\"{:.2f}, {:.2f}, {:.2f}\".format(results[0][0]/N_SAMPLES, results[0][1]/N_SAMPLES, results[0][2]/N_SAMPLES))\n",
    "print(\"{:.2f}, {:.2f}, {:.2f}\".format(results[1][0]/N_SAMPLES, results[1][1]/N_SAMPLES, results[1][2]/N_SAMPLES))"
   ]
  },
  {
   "cell_type": "code",
   "execution_count": 4,
   "id": "1dbab6da-1428-4176-81b6-4b944b7472b0",
   "metadata": {},
   "outputs": [
    {
     "name": "stdout",
     "output_type": "stream",
     "text": [
      "expected\t\t [0.37837838 0.35135135 0.27027027]\n",
      "test result\t\t0.38, 0.35, 0.27\n"
     ]
    }
   ],
   "source": [
    "#Test case 3\n",
    "#Long run test\n",
    "#starting from the initial state, making huge amount of steps\n",
    "#resulting vector shall represent the stationary distribution\n",
    "\n",
    "π = mc.calculate_stationary_distribution(P)\n",
    "\n",
    "results = [0, 0, 0]\n",
    "state = [0]\n",
    "N_SAMPLES = int(1e6)\n",
    "for i in range(N_SAMPLES):\n",
    "    result = mc_sampler.sample_chain(P, state)[0]\n",
    "    state = [result]\n",
    "    results[result] = results[result]+1\n",
    "    \n",
    "print(\"expected\\t\\t\", π)\n",
    "print(\"test result\\t\\t{:.2f}, {:.2f}, {:.2f}\".format(results[0]/N_SAMPLES, results[1]/N_SAMPLES, results[2]/N_SAMPLES))"
   ]
  },
  {
   "cell_type": "markdown",
   "id": "044eb8bd-e6b7-4dec-9acd-8b1dd87be335",
   "metadata": {},
   "source": [
    "---\n",
    "## **Testing the Simulator**"
   ]
  },
  {
   "cell_type": "code",
   "execution_count": 4,
   "id": "23e5d307-0db0-4127-b657-de1247e1f417",
   "metadata": {},
   "outputs": [],
   "source": [
    "class PassTracer:\n",
    "    states = [0,0,0]\n",
    "    ids = {}\n",
    "    \n",
    "    def __call__(self, t, states, ids, remainings):\n",
    "        for st in states:\n",
    "            st = int(st)\n",
    "            self.states[st] = self.states[st] + 1\n",
    "        for _id in ids:\n",
    "            self.ids[_id] = True"
   ]
  },
  {
   "cell_type": "code",
   "execution_count": 6,
   "id": "5377f763-5535-4237-b4a8-26aaf1705df2",
   "metadata": {},
   "outputs": [
    {
     "name": "stdout",
     "output_type": "stream",
     "text": [
      "Simulator finished in 999 steps\n"
     ]
    }
   ],
   "source": [
    "# Test case 1\n",
    "# Simple simulation run, with 1 object\n",
    "# Feeding in only in the first step\n",
    "# Starting from state 1\n",
    "# Path length 1000 steps\n",
    "\n",
    "feeding_model = [1]\n",
    "initial_state_model = [1, 0, 0]\n",
    "path_length_model = np.zeros(1000)\n",
    "path_length_model[999] = 1.0\n",
    "pass_tracer = PassTracer()\n",
    "\n",
    "sim = simulator.Simulator(P, feeding_model, initial_state_model, path_length_model)\n",
    "run_steps = sim.simulate(callback_function = pass_tracer)\n",
    "print(\"Simulator finished in {} steps\".format(run_steps))"
   ]
  },
  {
   "cell_type": "code",
   "execution_count": 7,
   "id": "e34e0b47-01f1-4ee9-8014-45c22ac684fe",
   "metadata": {},
   "outputs": [
    {
     "name": "stdout",
     "output_type": "stream",
     "text": [
      "test result\t\t0.39, 0.35, 0.26\n"
     ]
    }
   ],
   "source": [
    "print(\"test result\\t\\t{:.2f}, {:.2f}, {:.2f}\".format(pass_tracer.states[0]/run_steps,\n",
    "                                                     pass_tracer.states[1]/run_steps,\n",
    "                                                     pass_tracer.states[2]/run_steps))"
   ]
  },
  {
   "cell_type": "code",
   "execution_count": 5,
   "id": "4baf5cee-39a7-41fb-8ca9-8ad04ffb7ff0",
   "metadata": {},
   "outputs": [
    {
     "name": "stdout",
     "output_type": "stream",
     "text": [
      "Simulator finished in 198 steps\n"
     ]
    }
   ],
   "source": [
    "# Test case 2\n",
    "# Simple simulation run, with many objects\n",
    "# Feeding in only in the first 100 steps\n",
    "# Starting from each states equiprobably\n",
    "# Path lengths 100 steps\n",
    "\n",
    "feeding_model = np.ones(100)*15\n",
    "initial_state_model = [1/3, 1/3, 1/3]\n",
    "path_length_model = np.zeros(100)\n",
    "path_length_model[99] = 1.0\n",
    "pass_tracer = PassTracer()\n",
    "\n",
    "sim = simulator.Simulator(P, feeding_model, initial_state_model, path_length_model)\n",
    "run_steps = sim.simulate(callback_function = pass_tracer)\n",
    "print(\"Simulator finished in {} steps\".format(run_steps))"
   ]
  },
  {
   "cell_type": "code",
   "execution_count": 7,
   "id": "ccab5887-9efa-4b03-8427-0a1876b6917b",
   "metadata": {},
   "outputs": [
    {
     "name": "stdout",
     "output_type": "stream",
     "text": [
      "test result (reached states)\t\t0.38, 0.35, 0.27\n",
      "test max id\t\t1499.0\n"
     ]
    }
   ],
   "source": [
    "print(\"test result (reached states)\\t\\t{:.2f}, {:.2f}, {:.2f}\".format(pass_tracer.states[0]/np.sum(pass_tracer.states),\n",
    "                                                     pass_tracer.states[1]/np.sum(pass_tracer.states),\n",
    "                                                     pass_tracer.states[2]/np.sum(pass_tracer.states)))\n",
    "print(\"test max id\\t\\t{}\".format(max(list(pass_tracer.ids.keys()))))"
   ]
  },
  {
   "cell_type": "markdown",
   "id": "124139d9-458e-4215-99cd-c30a68aaff1c",
   "metadata": {},
   "source": [
    "### **Checking distribution of remaining distances**"
   ]
  },
  {
   "cell_type": "code",
   "execution_count": 11,
   "id": "14717161-743a-4779-867b-4cefbe103529",
   "metadata": {},
   "outputs": [],
   "source": [
    "# Test case 3\n",
    "# Given a realistic path length model, we collect the remaining lengths upon meetings\n",
    "# Meeting=being in the same state"
   ]
  },
  {
   "cell_type": "code",
   "execution_count": 3,
   "id": "72287cf0-778e-4ee1-b339-50970416b54b",
   "metadata": {},
   "outputs": [],
   "source": [
    "def sample_lengths(a, num_samples):\n",
    "    p_m = 1/a\n",
    "    ds = np.arange(1, 2*a+1)\n",
    "    p_d = np.array([2*p_m/a*d if d<=a/2 else -2*p_m/(3*a)*d+4/3*p_m for d in ds])\n",
    "    return np.random.choice(ds, num_samples, p=p_d) "
   ]
  },
  {
   "cell_type": "code",
   "execution_count": 3,
   "id": "e64e37fe-f389-4808-80ed-07b9e8a69403",
   "metadata": {},
   "outputs": [],
   "source": [
    "def sample_lengths(a, num_samples):\n",
    "    p_m = 1/a\n",
    "    ds = np.arange(1, 2*a+1)\n",
    "    p_d = np.array([1/(a**2)*d if d<=a else -1/(a**2)*d+2/a for d in ds])\n",
    "    return np.random.choice(ds, num_samples, p=p_d)"
   ]
  },
  {
   "cell_type": "code",
   "execution_count": 4,
   "id": "e71f1356-5bcd-434e-8175-d25e6c70a724",
   "metadata": {},
   "outputs": [
    {
     "name": "stderr",
     "output_type": "stream",
     "text": [
      "/home/levente/anaconda3/lib/python3.7/site-packages/seaborn/distributions.py:2557: FutureWarning: `distplot` is a deprecated function and will be removed in a future version. Please adapt your code to use either `displot` (a figure-level function with similar flexibility) or `histplot` (an axes-level function for histograms).\n",
      "  warnings.warn(msg, FutureWarning)\n"
     ]
    },
    {
     "data": {
      "text/plain": [
       "Text(0.5, 1.0, 'Histogram of route lengths')"
      ]
     },
     "execution_count": 4,
     "metadata": {},
     "output_type": "execute_result"
    },
    {
     "data": {
      "image/png": "[encoded data removed]",
      "text/plain": [
       "<Figure size 432x288 with 1 Axes>"
      ]
     },
     "metadata": {
      "needs_background": "light"
     },
     "output_type": "display_data"
    }
   ],
   "source": [
    "import seaborn as sns\n",
    "import matplotlib.pyplot as plt\n",
    "\n",
    "route_length = sample_lengths(20, 10000)\n",
    "\n",
    "sns.distplot(route_length)\n",
    "plt.title(\"Histogram of route lengths\")"
   ]
  },
  {
   "cell_type": "code",
   "execution_count": 10,
   "id": "0d6588c5-926e-4d03-8cd9-7e1f1a6f1153",
   "metadata": {},
   "outputs": [
    {
     "data": {
      "text/plain": [
       "1"
      ]
     },
     "execution_count": 10,
     "metadata": {},
     "output_type": "execute_result"
    }
   ],
   "source": [
    "route_length\n",
    "max(route_length)\n",
    "min(route_length)"
   ]
  },
  {
   "cell_type": "code",
   "execution_count": 90,
   "id": "b35f4caa-876f-4e85-8d70-1b0cb40cb4d8",
   "metadata": {},
   "outputs": [],
   "source": [
    "sys.path.append(\"..\")\n",
    "import meeting_model\n",
    "reload(meeting_model)\n",
    "\n",
    "class CounterCallback:\n",
    "    remaining_at_meeting = []\n",
    "    def __init__(self, edge_to_index_map, index_to_edge_map):\n",
    "        '''\n",
    "            Parameters:\n",
    "                edge_to_index_map: network edges -> indices of P\n",
    "                index_to_edge_map: indices of P -> network edges\n",
    "        '''\n",
    "        \n",
    "        self.meeting_model = meeting_model.Meeting(edge_to_index_map, index_to_edge_map)\n",
    "    \n",
    "    def __call__(self, t, states, ids, remainings):\n",
    "        if (t%10 == 0): \n",
    "            print(\"Step %d\\trunning %d\"%(t, len(states)))\n",
    "            print(\"Remaining:\\t\", remainings[-10:])\n",
    "        meetings = self.meeting_model(t, states, ids, remainings)\n",
    "        for x,y in meetings:\n",
    "            x = int(x)\n",
    "            self.remaining_at_meeting.append(remainings[x]) #as meetings contains pairs in both order"
   ]
  },
  {
   "cell_type": "code",
   "execution_count": 91,
   "id": "36a9b0b0-8e6a-455f-a74a-7ed5526dce31",
   "metadata": {},
   "outputs": [
    {
     "name": "stdout",
     "output_type": "stream",
     "text": [
      "Step 0\trunning 50\n",
      "Remaining:\t [12. 10. 15.  6. 16. 31. 24. 18. 27. 15.]\n",
      "Step 10\trunning 481\n",
      "Remaining:\t [ 6. 39. 21. 20. 10.  9.  9.  9. 21. 17.]\n",
      "Step 20\trunning 729\n",
      "Remaining:\t [26. 27. 16. 10. 25.  8.  5. 18.  9. 15.]\n",
      "Step 30\trunning 810\n",
      "Remaining:\t [23. 28. 15.  6. 10. 16. 11. 32. 18.  1.]\n",
      "Step 40\trunning 844\n",
      "Remaining:\t [25.  7.  7. 13. 10. 13. 23. 12. 20. 18.]\n",
      "Step 50\trunning 831\n",
      "Remaining:\t [10. 25. 32. 12. 21. 12. 26. 31. 22.  4.]\n",
      "Step 60\trunning 831\n",
      "Remaining:\t [17. 16.  2. 11.  9. 23.  3. 36. 25.  9.]\n",
      "Step 70\trunning 849\n",
      "Remaining:\t [ 9. 12. 29. 35. 23.  4.  7. 17.  6. 18.]\n",
      "Step 80\trunning 845\n",
      "Remaining:\t [16.  4. 30. 30. 11.  6. 25.  7.  8. 14.]\n",
      "Step 90\trunning 852\n",
      "Remaining:\t [11.  8. 10.  8. 29. 21. 13.  5. 15. 24.]\n",
      "Step 100\trunning 797\n",
      "Remaining:\t [ 6. 14. 31. 17. 17.  7. 16. 12.  3. 15.]\n",
      "Step 110\trunning 354\n",
      "Remaining:\t [13. 16.  2.  4. 21.  7.  7.  6.  2.  5.]\n",
      "Step 120\trunning 99\n",
      "Remaining:\t [10. 12.  5. 11.  5. 12. 13.  3.  6. 11.]\n",
      "Step 130\trunning 16\n",
      "Remaining:\t [5. 5. 5. 7. 2. 2. 1. 2. 3. 1.]\n",
      "Simulator finished in 137 steps\n"
     ]
    }
   ],
   "source": [
    "feeding_model = np.ones(100)*50\n",
    "\n",
    "P, edge_to_index_map, index_to_edge_map = utils.read_MC(\"../../data/large_grid2.net.xml\",\n",
    "                                                       \"../../data/turnings.xml\",\n",
    "                                                       [.15, .8, .05])\n",
    "P_ = mc.add_st_node(P, [0.0, 0.0])\n",
    "π = mc.calculate_stationary_distribution(P_)\n",
    "initial_state_model = π\n",
    "\n",
    "a = 20\n",
    "p_m = 1/a\n",
    "ds = np.arange(1, 2*a+1)\n",
    "p_d = np.array([2*p_m/a*d if d<=a/2 else -2*p_m/(3*a)*d+4/3*p_m for d in ds])\n",
    "path_length_model = p_d\n",
    "\n",
    "counter = CounterCallback(edge_to_index_map, index_to_edge_map)\n",
    "\n",
    "sim = simulator.Simulator(P_, feeding_model, initial_state_model, path_length_model)\n",
    "run_steps = sim.simulate(callback_function = counter)\n",
    "print(\"Simulator finished in {} steps\".format(run_steps))"
   ]
  },
  {
   "cell_type": "code",
   "execution_count": 116,
   "id": "02cf3071-e8cd-4478-8e60-97499b7e3c98",
   "metadata": {},
   "outputs": [
    {
     "name": "stderr",
     "output_type": "stream",
     "text": [
      "/home/levente/anaconda3/lib/python3.7/site-packages/seaborn/distributions.py:2557: FutureWarning: `distplot` is a deprecated function and will be removed in a future version. Please adapt your code to use either `displot` (a figure-level function with similar flexibility) or `histplot` (an axes-level function for histograms).\n",
      "  warnings.warn(msg, FutureWarning)\n"
     ]
    },
    {
     "data": {
      "text/plain": [
       "<matplotlib.legend.Legend at 0x7fdb8459b208>"
      ]
     },
     "execution_count": 116,
     "metadata": {},
     "output_type": "execute_result"
    },
    {
     "data": {
      "image/png": "[encoded data removed]",
      "text/plain": [
       "<Figure size 432x288 with 1 Axes>"
      ]
     },
     "metadata": {
      "needs_background": "light"
     },
     "output_type": "display_data"
    }
   ],
   "source": [
    "sns.distplot(counter.remaining_at_meeting, label=\"measured\")\n",
    "plt.plot(np.cumsum(p_d[::-1])[::-1]/np.sum(np.cumsum(p_d[::-1])[::-1]), label=\"theoretical\")\n",
    "plt.title(\"Histogram of remaining route lengths upon meetings\")\n",
    "plt.xlabel(\"remaining route length [step]\")\n",
    "plt.legend()"
   ]
  },
  {
   "cell_type": "code",
   "execution_count": 117,
   "id": "55bbc7ae-9adf-4705-803f-baae17498584",
   "metadata": {},
   "outputs": [
    {
     "data": {
      "text/plain": [
       "15.666666666666664"
      ]
     },
     "execution_count": 117,
     "metadata": {},
     "output_type": "execute_result"
    }
   ],
   "source": [
    "np.sum(np.arange(0, 40)*p_d) #expected value of p_d"
   ]
  }
 ],
 "metadata": {
  "kernelspec": {
   "display_name": "Python 3 (ipykernel)",
   "language": "python",
   "name": "python3"
  },
  "language_info": {
   "codemirror_mode": {
    "name": "ipython",
    "version": 3
   },
   "file_extension": ".py",
   "mimetype": "text/x-python",
   "name": "python",
   "nbconvert_exporter": "python",
   "pygments_lexer": "ipython3",
   "version": "3.7.3"
  }
 },
 "nbformat": 4,
 "nbformat_minor": 5
}
