{
 "cells": [
  {
   "cell_type": "markdown",
   "id": "734f1edb-f741-4da5-ae9f-ce32a139f979",
   "metadata": {},
   "source": [
    "# **Network creator**"
   ]
  },
  {
   "cell_type": "code",
   "execution_count": 1,
   "id": "dca58a08-8f93-4412-b167-63f87213fa77",
   "metadata": {},
   "outputs": [
    {
     "name": "stdout",
     "output_type": "stream",
     "text": [
      "Success.\n"
     ]
    }
   ],
   "source": [
    "!netgenerate -g --grid.number 21 --output ../data/large_grid2.net.xml --no-turnarounds"
   ]
  },
  {
   "cell_type": "markdown",
   "id": "832443d5-6f5f-4fdc-8622-e331bf638dbe",
   "metadata": {},
   "source": [
    "Manually creating traffic lights..."
   ]
  },
  {
   "cell_type": "code",
   "execution_count": 42,
   "id": "d810f922-7715-435a-9990-90f5e5f03506",
   "metadata": {},
   "outputs": [],
   "source": [
    "!python3 $SUMO_HOME/tools/randomTrips.py -n ../data/large_grid2.net.xml -o ../data/flows.xml --begin 0 --end 5000 --flows 500 --jtrrouter --trip-attributes 'departPos=\"random\" departSpeed=\"max\"' --random"
   ]
  },
  {
   "cell_type": "code",
   "execution_count": 1,
   "id": "29334425-5c57-41f5-9e0a-7421400d959e",
   "metadata": {},
   "outputs": [],
   "source": [
    "import sumolib"
   ]
  },
  {
   "cell_type": "code",
   "execution_count": 2,
   "id": "b933f3af-d022-4c55-bce0-53f4f0ebe61b",
   "metadata": {},
   "outputs": [],
   "source": [
    "net = sumolib.net.readNet(\"../data/large_grid2.net.xml\")"
   ]
  },
  {
   "cell_type": "code",
   "execution_count": 51,
   "id": "57978ac4-961e-4156-9096-0c07b76a7420",
   "metadata": {},
   "outputs": [],
   "source": [
    "import xml.etree.ElementTree as ET\n",
    "\n",
    "root = ET.Element(\"data\")\n",
    "doc = ET.SubElement(root, \"interval\", begin=\"0\", end=\"36000\")\n",
    "\n",
    "for i in range(ord('@'), ord('U')): #U not included\n",
    "    column = chr(i)\n",
    "    from_edge = column+\"10\"+chr(i+1)+\"10\"\n",
    "    inverse_edge = chr(i+1)+\"10\"+column+\"10\"\n",
    "    top_edge = chr(i+1)+\"10\"+chr(i+1)+\"11\"\n",
    "    bottom_edge = chr(i+1)+\"10\"+chr(i+1)+\"9\"\n",
    "    next_edge = chr(i+1)+\"10\"+chr(i+2)+\"10\"\n",
    "    next_inverse_edge = chr(i+2)+\"10\"+chr(i+1)+\"10\"\n",
    "    #towards\n",
    "    edge = ET.SubElement(doc, \"edgeRelation\", to=bottom_edge, probability=\"0.008\")\n",
    "    edge.set(\"from\", from_edge)\n",
    "    edge = ET.SubElement(doc, \"edgeRelation\", to=top_edge, probability=\"0.002\")\n",
    "    edge.set(\"from\", from_edge)\n",
    "    edge = ET.SubElement(doc, \"edgeRelation\", to=next_edge, probability=\"0.99\")\n",
    "    edge.set(\"from\", from_edge)\n",
    "    #backwards:\n",
    "    edge = ET.SubElement(doc, \"edgeRelation\", to=bottom_edge, probability=\"0.002\")\n",
    "    edge.set(\"from\", next_inverse_edge)\n",
    "    edge = ET.SubElement(doc, \"edgeRelation\", to=top_edge, probability=\"0.008\")\n",
    "    edge.set(\"from\", next_inverse_edge)\n",
    "    edge = ET.SubElement(doc, \"edgeRelation\", to=inverse_edge, probability=\"0.99\")\n",
    "    edge.set(\"from\", next_inverse_edge)\n",
    "    \n",
    "tree = ET.ElementTree(root)\n",
    "tree.write(\"turnings.xml\")"
   ]
  },
  {
   "cell_type": "code",
   "execution_count": 52,
   "id": "d4a518af-b463-4a9a-bd20-78d45b05ac23",
   "metadata": {},
   "outputs": [
    {
     "name": "stdout",
     "output_type": "stream",
     "text": [
      "Loading configuration ... done.\n",
      "Success.up to time step: 4800.00\n"
     ]
    }
   ],
   "source": [
    "!jtrrouter -c flow_gen.jtrrcfg --vtype-output vtype.xml"
   ]
  },
  {
   "cell_type": "code",
   "execution_count": 27,
   "id": "923f9dcc-e4af-47f7-9176-e2e6fcf12718",
   "metadata": {},
   "outputs": [],
   "source": [
    "import numpy as np\n",
    "import matplotlib.pyplot as plt\n",
    "\n",
    "from importlib import reload\n",
    "\n",
    "import tools.mc\n",
    "\n",
    "P, edge_to_index_map, index_to_edge_map = tools.mc.read_MC(\"../data/large_grid2_noart.net.xml\",\n",
    "                                                    \"../data/turnings2.xml\",\n",
    "                                                    [.3, .5, .2])"
   ]
  },
  {
   "cell_type": "code",
   "execution_count": 28,
   "id": "f8ee70c6-e014-4dc6-b4c9-bac46ab1d6a8",
   "metadata": {},
   "outputs": [],
   "source": [
    "def close_edge(P, edge_id):\n",
    "    P[:, edge_id] = np.zeros(len(P))\n",
    "    for i in range(len(P)):\n",
    "        P[i] = P[i]/np.sum(P[i])\n",
    "    return P"
   ]
  },
  {
   "cell_type": "code",
   "execution_count": 29,
   "id": "217720f5-4ac1-4cf7-92b4-c0ba91f398a5",
   "metadata": {},
   "outputs": [],
   "source": [
    "import re\n",
    "\n",
    "def get_orientation(edge_id):\n",
    "    #searching the components from ids:\n",
    "    i = len(edge_id)//2\n",
    "    while ord(edge_id[i+1])>57: i+=1\n",
    "    from_, to_ = edge_id[:i], edge_id[i:]\n",
    "    #edge origin extractor:\n",
    "    j = 0\n",
    "    while ord(from_[j])>57: j+=1\n",
    "    from_col, from_row = from_[:j], int(from_[j:])\n",
    "    #edge destination extractor:\n",
    "    j = 0\n",
    "    while ord(to_[j])>57: j+=1\n",
    "    to_col, to_row = to_[:j], int(to_[j:])\n",
    "    orientation = \"horizontal\" if from_row==to_row else \"vertical\"\n",
    "    if orientation==\"horizontal\":\n",
    "        direction = \"left_to_right\" if ord(from_col)<ord(to_col) else \"right_to_left\"\n",
    "    else:\n",
    "        direction = \"upward\" if from_row<to_row else \"downward\"\n",
    "    return orientation, direction, (from_col, from_row), (to_col, to_row)\n",
    "\n",
    "def invert_edge(edge_id):\n",
    "        _, _, (f_c, f_r), (t_c, t_r) = get_orientation(edge_id)\n",
    "        return t_c+str(t_r)+f_c+str(f_r)"
   ]
  },
  {
   "cell_type": "code",
   "execution_count": 30,
   "id": "507cca1d-3b17-4569-b103-cd5ac239182a",
   "metadata": {},
   "outputs": [],
   "source": [
    "def make_col_du_sac(P, edge_index, edge_to_index_map, index_to_edge_map):\n",
    "    edge = index_to_edge_map[edge_index]\n",
    "    #no outgoing edges:\n",
    "    P[edge_index] = np.zeros(len(P))\n",
    "    inv_edge_index = edge_to_index_map[invert_edge(edge)]\n",
    "    close_edge(P, inv_edge_index)\n",
    "    P[edge_index, inv_edge_index] = 1.0\n",
    "    return P"
   ]
  },
  {
   "cell_type": "code",
   "execution_count": 34,
   "id": "efd6432b-ec42-4e85-a3fe-fc6d3616e637",
   "metadata": {},
   "outputs": [],
   "source": [
    "def change_network(P, edge_to_index_map, index_to_edge_map):\n",
    "    num_mod = 0\n",
    "    for i in range(len(P)):\n",
    "        modification = np.random.choice([\"no\", \"oneway\", \"coldsac\"],1,\n",
    "                                            p=[.95, .04, .01])[0]\n",
    "        if modification == \"oneway\":\n",
    "            P = close_edge(P, i)\n",
    "            num_mod += 1\n",
    "        elif modification == \"coldsac\":\n",
    "            P = make_col_du_sac(P, i, edge_to_index_map, index_to_edge_map)\n",
    "            num_mod += 1\n",
    "    print(num_mod)\n",
    "    return P"
   ]
  },
  {
   "cell_type": "code",
   "execution_count": 35,
   "id": "606611a3-f0bd-48e4-bcff-8c66fdb1b310",
   "metadata": {},
   "outputs": [],
   "source": [
    "import xml.etree.ElementTree as ET\n",
    "\n",
    "def save_turning_probs_to_xml(P, filename):\n",
    "    root = ET.Element(\"data\")\n",
    "    doc = ET.SubElement(root, \"interval\", begin=\"0\", end=\"36000\")\n",
    "    for i,row in enumerate(P):\n",
    "        for j,elem in enumerate(row):\n",
    "            if elem>0.0:\n",
    "                edge = ET.SubElement(doc, \"edgeRelation\", to=str(j), probability=str(elem))\n",
    "                edge.set(\"from\", str(i))\n",
    "    tree = ET.ElementTree(root)\n",
    "    tree.write(filename)"
   ]
  },
  {
   "cell_type": "code",
   "execution_count": 36,
   "id": "89ff94df-a525-424d-9d5e-8425aa015f8e",
   "metadata": {},
   "outputs": [
    {
     "name": "stderr",
     "output_type": "stream",
     "text": [
      "/home/levente/anaconda3/lib/python3.7/site-packages/ipykernel_launcher.py:4: RuntimeWarning: invalid value encountered in true_divide\n",
      "  after removing the cwd from sys.path.\n"
     ]
    },
    {
     "name": "stdout",
     "output_type": "stream",
     "text": [
      "72\n"
     ]
    }
   ],
   "source": [
    "P = change_network(P, edge_to_index_map, index_to_edge_map)\n",
    "save_turning_probs_to_xml(P, \"../data/turnings_random.xml\")"
   ]
  }
 ],
 "metadata": {
  "kernelspec": {
   "display_name": "Python 3 (ipykernel)",
   "language": "python",
   "name": "python3"
  },
  "language_info": {
   "codemirror_mode": {
    "name": "ipython",
    "version": 3
   },
   "file_extension": ".py",
   "mimetype": "text/x-python",
   "name": "python",
   "nbconvert_exporter": "python",
   "pygments_lexer": "ipython3",
   "version": "3.7.3"
  }
 },
 "nbformat": 4,
 "nbformat_minor": 5
}
