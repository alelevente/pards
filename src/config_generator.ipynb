{
 "cells": [
  {
   "cell_type": "markdown",
   "id": "6996d301-ab41-49ac-92a1-b5d165c27903",
   "metadata": {},
   "source": [
    "# **Generating configurations**"
   ]
  },
  {
   "cell_type": "code",
   "execution_count": 69,
   "id": "3e32ecc4-07c0-411a-9b97-c31993c37140",
   "metadata": {},
   "outputs": [],
   "source": [
    "CONFIGURATION_FILE = \"../cfg/asymmetric_high.json\"\n",
    "a = 20"
   ]
  },
  {
   "cell_type": "code",
   "execution_count": 70,
   "id": "6feb2259-8391-4d58-944d-6a79f9fee3c0",
   "metadata": {},
   "outputs": [],
   "source": [
    "import numpy as np\n",
    "import json\n",
    "from tools.mc import read_MC"
   ]
  },
  {
   "cell_type": "code",
   "execution_count": 71,
   "id": "7aaa79df-52c4-4b3b-8ebb-76457157c98b",
   "metadata": {},
   "outputs": [],
   "source": [
    "with open(CONFIGURATION_FILE) as f:\n",
    "    config = json.load(f)"
   ]
  },
  {
   "cell_type": "code",
   "execution_count": 72,
   "id": "3c51776e-632f-4861-be9d-4e85d176bbdd",
   "metadata": {},
   "outputs": [],
   "source": [
    "P, _, _ = read_MC(config[\"sumo_grid\"],\n",
    "                  config[\"specific_turning_definition\"],\n",
    "                  config[\"default_turning_definition\"])"
   ]
  },
  {
   "cell_type": "markdown",
   "id": "51358a6e-2215-4e1a-beeb-a1fbbe78bc1d",
   "metadata": {
    "tags": []
   },
   "source": [
    "---\n",
    "## **Feeding models**"
   ]
  },
  {
   "cell_type": "markdown",
   "id": "879e6ecb-2c6f-4afc-a4b8-bda633a35a68",
   "metadata": {},
   "source": [
    "### Low"
   ]
  },
  {
   "cell_type": "code",
   "execution_count": 62,
   "id": "4538c8b3-2868-45a1-a046-44cb3c235a6d",
   "metadata": {},
   "outputs": [],
   "source": [
    "feeding_model = np.zeros(1000)\n",
    "for i in range(len(feeding_model)//2):\n",
    "    feeding_model[i*2] = 1.0"
   ]
  },
  {
   "cell_type": "markdown",
   "id": "6a523f86-af08-47dc-9419-6fa0422d949b",
   "metadata": {},
   "source": [
    "### Medium"
   ]
  },
  {
   "cell_type": "code",
   "execution_count": 63,
   "id": "5fa33e4f-dfda-4c8e-97dd-d3b32070a5c0",
   "metadata": {},
   "outputs": [],
   "source": [
    "feeding_model = np.ones(1000)*4.0"
   ]
  },
  {
   "cell_type": "markdown",
   "id": "10b350de-bfdc-4fe8-8091-4bab546e992a",
   "metadata": {},
   "source": [
    "### High"
   ]
  },
  {
   "cell_type": "code",
   "execution_count": 73,
   "id": "a3f915d1-3ac0-4ab8-91b8-7d9a05def5ec",
   "metadata": {},
   "outputs": [],
   "source": [
    "feeding_model = np.ones(1000)*16.0"
   ]
  },
  {
   "cell_type": "markdown",
   "id": "eb0e1a3e-8b87-46ce-a1dc-e44ea2bdb9a2",
   "metadata": {
    "tags": []
   },
   "source": [
    "---\n",
    "## **Initial state models**"
   ]
  },
  {
   "cell_type": "markdown",
   "id": "3e7dbf7a-73f0-46fd-9a7f-a21d3483eddd",
   "metadata": {},
   "source": [
    "### Equiprobable origins"
   ]
  },
  {
   "cell_type": "code",
   "execution_count": 74,
   "id": "27ef29ae-25e1-4528-ade6-cf55855863d0",
   "metadata": {},
   "outputs": [],
   "source": [
    "origin_model = np.ones(len(P))/len(P)"
   ]
  },
  {
   "cell_type": "markdown",
   "id": "60b4e955-c155-4cec-be9a-852264c9f885",
   "metadata": {
    "jp-MarkdownHeadingCollapsed": true,
    "tags": []
   },
   "source": [
    "### Symmetric route lengths"
   ]
  },
  {
   "cell_type": "code",
   "execution_count": 44,
   "id": "8f1c88ef-a02a-40d5-aef5-c9fe13b99ace",
   "metadata": {},
   "outputs": [],
   "source": [
    "def sample_route_lengths_symmetric(a, num_samples):\n",
    "    p_m = 1/a\n",
    "    ds = np.arange(1, 2*a+1)\n",
    "    return np.array([1/(a**2)*d if d<=a else -1/(a**2)*d+2/a for d in ds])"
   ]
  },
  {
   "cell_type": "code",
   "execution_count": 45,
   "id": "e3173c68-de9f-40dc-97c1-003191d51160",
   "metadata": {},
   "outputs": [],
   "source": [
    "path_length_model = sample_route_lengths_symmetric(a, np.sum(feeding_model))"
   ]
  },
  {
   "cell_type": "markdown",
   "id": "ae989afb-2545-4cea-9a7e-c6ec1d4bc38c",
   "metadata": {
    "tags": []
   },
   "source": [
    "### Asymmetric route lengths"
   ]
  },
  {
   "cell_type": "code",
   "execution_count": 75,
   "id": "6102d7d8-1c9f-40be-b022-efb42058e081",
   "metadata": {},
   "outputs": [],
   "source": [
    "def sample_route_lengths_asymmetric(a, num_samples):\n",
    "    p_m = 1/a\n",
    "    ds = np.arange(1, 2*a+1)\n",
    "    return np.array([2*p_m/a*d if d<=a/2 else -2*p_m/(3*a)*d+4/3*p_m for d in ds])"
   ]
  },
  {
   "cell_type": "code",
   "execution_count": 76,
   "id": "b03b46f3-db2c-4a87-ae4e-f4997e84fa16",
   "metadata": {},
   "outputs": [],
   "source": [
    "path_length_model = sample_route_lengths_asymmetric(a, np.sum(feeding_model))"
   ]
  },
  {
   "cell_type": "markdown",
   "id": "8c7fbdac-ad49-4e8e-ab48-944028f651f8",
   "metadata": {},
   "source": [
    "---\n",
    "## **Saving the configuration**"
   ]
  },
  {
   "cell_type": "code",
   "execution_count": 77,
   "id": "c9564b9a-10b1-467f-859b-b08833315959",
   "metadata": {},
   "outputs": [],
   "source": [
    "config[\"feeding_model\"] = {\n",
    "    \"origin_model\": list(origin_model),\n",
    "    \"path_length_model\": list(path_length_model),\n",
    "    \"feed\": list(feeding_model)\n",
    "}"
   ]
  },
  {
   "cell_type": "code",
   "execution_count": 78,
   "id": "040c6e06-3f5c-4ffc-8773-1b13829a0c9e",
   "metadata": {},
   "outputs": [],
   "source": [
    "with open(CONFIGURATION_FILE, \"w\") as f:\n",
    "    json.dump(config, f)"
   ]
  }
 ],
 "metadata": {
  "kernelspec": {
   "display_name": "Python 3 (ipykernel)",
   "language": "python",
   "name": "python3"
  },
  "language_info": {
   "codemirror_mode": {
    "name": "ipython",
    "version": 3
   },
   "file_extension": ".py",
   "mimetype": "text/x-python",
   "name": "python",
   "nbconvert_exporter": "python",
   "pygments_lexer": "ipython3",
   "version": "3.7.3"
  }
 },
 "nbformat": 4,
 "nbformat_minor": 5
}
